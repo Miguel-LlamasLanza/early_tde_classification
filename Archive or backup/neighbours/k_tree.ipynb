{
 "cells": [
  {
   "cell_type": "code",
   "execution_count": 10,
   "id": "cd223d92",
   "metadata": {
    "tags": []
   },
   "outputs": [],
   "source": [
    "import tde_analysis as td\n",
    "from early_tde_classification.config import Config\n",
    "import os"
   ]
  },
  {
   "cell_type": "code",
   "execution_count": 11,
   "id": "b017742e",
   "metadata": {
    "tags": []
   },
   "outputs": [
    {
     "name": "stdout",
     "output_type": "stream",
     "text": [
      "Index(['nb_points', 'norm', 'amplitude', 'rise_time', 'temperature', 'r_chisq',\n",
      "       'std_flux_g', 'std_snr_r', 'sigmoid_dist', 'snr_rise_time'],\n",
      "      dtype='object')\n"
     ]
    }
   ],
   "source": [
    "path_features = os.path.join(Config.OUT_FEATURES_DIR, 'features_all.csv')\n",
    "data, features = td.get_data(path_features)"
   ]
  },
  {
   "cell_type": "code",
   "execution_count": 12,
   "id": "8c9cf2d8",
   "metadata": {},
   "outputs": [
    {
     "data": {
      "text/html": [
       "<div>\n",
       "<style scoped>\n",
       "    .dataframe tbody tr th:only-of-type {\n",
       "        vertical-align: middle;\n",
       "    }\n",
       "\n",
       "    .dataframe tbody tr th {\n",
       "        vertical-align: top;\n",
       "    }\n",
       "\n",
       "    .dataframe thead th {\n",
       "        text-align: right;\n",
       "    }\n",
       "</style>\n",
       "<table border=\"1\" class=\"dataframe\">\n",
       "  <thead>\n",
       "    <tr style=\"text-align: right;\">\n",
       "      <th></th>\n",
       "      <th>objId</th>\n",
       "      <th>alertId</th>\n",
       "      <th>type</th>\n",
       "      <th>nb_points</th>\n",
       "      <th>norm</th>\n",
       "      <th>ref_time</th>\n",
       "      <th>amplitude</th>\n",
       "      <th>rise_time</th>\n",
       "      <th>temperature</th>\n",
       "      <th>r_chisq</th>\n",
       "      <th>err_ref_time</th>\n",
       "      <th>err_amplitude</th>\n",
       "      <th>err_rise_time</th>\n",
       "      <th>err_temperature</th>\n",
       "      <th>std_flux_g</th>\n",
       "      <th>std_flux_r</th>\n",
       "      <th>std_snr_g</th>\n",
       "      <th>std_snr_r</th>\n",
       "      <th>sigmoid_dist</th>\n",
       "      <th>snr_rise_time</th>\n",
       "      <th>snr_amplitude</th>\n",
       "      <th>data_origin</th>\n",
       "    </tr>\n",
       "  </thead>\n",
       "  <tbody>\n",
       "    <tr>\n",
       "      <th>2709</th>\n",
       "      <td>ZTF20abfcszi</td>\n",
       "      <td>1294414010815015007</td>\n",
       "      <td>Ambiguous</td>\n",
       "      <td>47.0</td>\n",
       "      <td>5009.356130</td>\n",
       "      <td>2.459043e+06</td>\n",
       "      <td>2.734572</td>\n",
       "      <td>18.439904</td>\n",
       "      <td>10705.149297</td>\n",
       "      <td>0.615916</td>\n",
       "      <td>5.138847</td>\n",
       "      <td>0.359702</td>\n",
       "      <td>2.476171</td>\n",
       "      <td>438.566267</td>\n",
       "      <td>0.214921</td>\n",
       "      <td>0.171206</td>\n",
       "      <td>4.422497</td>\n",
       "      <td>4.133014</td>\n",
       "      <td>1.209381</td>\n",
       "      <td>7.446942</td>\n",
       "      <td>7.602325</td>\n",
       "      <td>extragal</td>\n",
       "    </tr>\n",
       "    <tr>\n",
       "      <th>7047</th>\n",
       "      <td>ZTF20abfcszi</td>\n",
       "      <td>ZTF20abfcszi-51</td>\n",
       "      <td>TDE</td>\n",
       "      <td>51.0</td>\n",
       "      <td>5009.352577</td>\n",
       "      <td>5.904035e+04</td>\n",
       "      <td>2.644240</td>\n",
       "      <td>17.451186</td>\n",
       "      <td>10829.352770</td>\n",
       "      <td>0.613425</td>\n",
       "      <td>3.839573</td>\n",
       "      <td>0.294175</td>\n",
       "      <td>2.057831</td>\n",
       "      <td>429.616898</td>\n",
       "      <td>0.218163</td>\n",
       "      <td>0.184846</td>\n",
       "      <td>4.415451</td>\n",
       "      <td>4.256497</td>\n",
       "      <td>1.379186</td>\n",
       "      <td>8.480378</td>\n",
       "      <td>8.988657</td>\n",
       "      <td>tdes_ztf</td>\n",
       "    </tr>\n",
       "  </tbody>\n",
       "</table>\n",
       "</div>"
      ],
      "text/plain": [
       "             objId              alertId  ... snr_amplitude  data_origin\n",
       "2709  ZTF20abfcszi  1294414010815015007  ...      7.602325     extragal\n",
       "7047  ZTF20abfcszi      ZTF20abfcszi-51  ...      8.988657     tdes_ztf\n",
       "\n",
       "[2 rows x 22 columns]"
      ]
     },
     "execution_count": 12,
     "metadata": {},
     "output_type": "execute_result"
    }
   ],
   "source": [
    "data[data.objId == 'ZTF20abfcszi']\n"
   ]
  },
  {
   "cell_type": "code",
   "execution_count": 26,
   "id": "3bf9b609",
   "metadata": {
    "tags": []
   },
   "outputs": [],
   "source": [
    "types, objids, alertids, is_TDE = td.run_KDE(data, features, n=2)"
   ]
  },
  {
   "cell_type": "code",
   "execution_count": 27,
   "id": "f075f94d",
   "metadata": {
    "tags": []
   },
   "outputs": [
    {
     "name": "stdout",
     "output_type": "stream",
     "text": [
      "Neighbours of the TDEs:\n",
      "[['Unknown' '6']\n",
      " ['QSO' '1']\n",
      " ['Ambiguous' '1']\n",
      " ['Early SN Ia candidate' '1']\n",
      " ['Solar System candidate' '1']]\n"
     ]
    }
   ],
   "source": [
    "td.plot_distributions(data, types)"
   ]
  },
  {
   "cell_type": "code",
   "execution_count": 28,
   "id": "8d43f774",
   "metadata": {
    "tags": []
   },
   "outputs": [],
   "source": [
    "import pandas as pd\n",
    "\n",
    "pd.DataFrame(objids).to_csv('neighbours.csv', index = False)"
   ]
  },
  {
   "cell_type": "code",
   "execution_count": 29,
   "id": "79117061",
   "metadata": {},
   "outputs": [
    {
     "data": {
      "text/html": [
       "<div>\n",
       "<style scoped>\n",
       "    .dataframe tbody tr th:only-of-type {\n",
       "        vertical-align: middle;\n",
       "    }\n",
       "\n",
       "    .dataframe tbody tr th {\n",
       "        vertical-align: top;\n",
       "    }\n",
       "\n",
       "    .dataframe thead th {\n",
       "        text-align: right;\n",
       "    }\n",
       "</style>\n",
       "<table border=\"1\" class=\"dataframe\">\n",
       "  <thead>\n",
       "    <tr style=\"text-align: right;\">\n",
       "      <th></th>\n",
       "      <th>objId</th>\n",
       "      <th>alertId</th>\n",
       "      <th>type</th>\n",
       "      <th>nb_points</th>\n",
       "      <th>norm</th>\n",
       "      <th>ref_time</th>\n",
       "      <th>amplitude</th>\n",
       "      <th>rise_time</th>\n",
       "      <th>temperature</th>\n",
       "      <th>r_chisq</th>\n",
       "      <th>err_ref_time</th>\n",
       "      <th>err_amplitude</th>\n",
       "      <th>err_rise_time</th>\n",
       "      <th>err_temperature</th>\n",
       "      <th>std_flux_g</th>\n",
       "      <th>std_flux_r</th>\n",
       "      <th>std_snr_g</th>\n",
       "      <th>std_snr_r</th>\n",
       "      <th>sigmoid_dist</th>\n",
       "      <th>snr_rise_time</th>\n",
       "      <th>snr_amplitude</th>\n",
       "      <th>data_origin</th>\n",
       "    </tr>\n",
       "  </thead>\n",
       "  <tbody>\n",
       "    <tr>\n",
       "      <th>3652</th>\n",
       "      <td>ZTF19abuwgfg</td>\n",
       "      <td>1324414744015015028</td>\n",
       "      <td>Microlensing candidate</td>\n",
       "      <td>22.0</td>\n",
       "      <td>4358.590999</td>\n",
       "      <td>2.459084e+06</td>\n",
       "      <td>2.977295</td>\n",
       "      <td>3.433438</td>\n",
       "      <td>11827.538634</td>\n",
       "      <td>0.385669</td>\n",
       "      <td>0.842284</td>\n",
       "      <td>0.502348</td>\n",
       "      <td>0.352209</td>\n",
       "      <td>896.841954</td>\n",
       "      <td>0.284533</td>\n",
       "      <td>0.292076</td>\n",
       "      <td>4.035261</td>\n",
       "      <td>4.337162</td>\n",
       "      <td>1.458152</td>\n",
       "      <td>9.748309</td>\n",
       "      <td>5.926757</td>\n",
       "      <td>extragal</td>\n",
       "    </tr>\n",
       "  </tbody>\n",
       "</table>\n",
       "</div>"
      ],
      "text/plain": [
       "             objId              alertId  ... snr_amplitude  data_origin\n",
       "3652  ZTF19abuwgfg  1324414744015015028  ...      5.926757     extragal\n",
       "\n",
       "[1 rows x 22 columns]"
      ]
     },
     "execution_count": 29,
     "metadata": {},
     "output_type": "execute_result"
    }
   ],
   "source": [
    "data[data.objId=='ZTF19abuwgfg']"
   ]
  },
  {
   "cell_type": "code",
   "execution_count": 30,
   "id": "d955199c",
   "metadata": {},
   "outputs": [
    {
     "data": {
      "text/plain": [
       "True"
      ]
     },
     "execution_count": 30,
     "metadata": {},
     "output_type": "execute_result"
    }
   ],
   "source": [
    "'ZTF20abfcszi' in objids"
   ]
  },
  {
   "cell_type": "code",
   "execution_count": null,
   "id": "66521278",
   "metadata": {},
   "outputs": [],
   "source": []
  }
 ],
 "metadata": {
  "kernelspec": {
   "display_name": "Python 3 (Spyder)",
   "language": "python3",
   "name": "python3"
  },
  "language_info": {
   "codemirror_mode": {
    "name": "ipython",
    "version": 3
   },
   "file_extension": ".py",
   "mimetype": "text/x-python",
   "name": "python",
   "nbconvert_exporter": "python",
   "pygments_lexer": "ipython3",
   "version": "3.10.13"
  }
 },
 "nbformat": 4,
 "nbformat_minor": 5
}
