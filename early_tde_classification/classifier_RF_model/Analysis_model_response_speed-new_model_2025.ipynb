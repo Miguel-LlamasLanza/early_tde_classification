{
 "cells": [
  {
   "cell_type": "markdown",
   "id": "1521c297-4173-4245-a444-88ced5514eaf",
   "metadata": {},
   "source": [
    "This notebook analysis the performance of the classifier in terms of response speed: i.e. how fast can the module identify a TDE with respect to its first observation and its peak.\n"
   ]
  },
  {
   "cell_type": "code",
   "execution_count": 1,
   "id": "ccc54231-ed3f-433e-922a-e1c0094e0780",
   "metadata": {},
   "outputs": [],
   "source": [
    "from early_tde_classification.config import Config\n",
    "import os\n",
    "import pandas as pd\n",
    "from astropy.table import Table"
   ]
  },
  {
   "cell_type": "markdown",
   "id": "64f9a0a5-debb-4ade-af64-97f4ee3df740",
   "metadata": {},
   "source": [
    "## 1. Load data"
   ]
  },
  {
   "cell_type": "markdown",
   "id": "0378e912-869b-460e-a363-3e293daf0bd4",
   "metadata": {},
   "source": [
    "Let's get TNS indices."
   ]
  },
  {
   "cell_type": "code",
   "execution_count": 2,
   "id": "93dd0ba9-4c7e-4b1b-87d7-3666812487b9",
   "metadata": {},
   "outputs": [
    {
     "name": "stdout",
     "output_type": "stream",
     "text": [
      "231434 TNS entries\n",
      "106 TDEs\n",
      "12628 non-TDEs\n"
     ]
    }
   ],
   "source": [
    "import io\n",
    "import requests\n",
    "\n",
    "r = requests.post(\n",
    "    'https://api.fink-portal.org/api/v1/resolver',\n",
    "    json={\n",
    "        'resolver': 'tns',\n",
    "        'name': '',\n",
    "        'nmax': 1000000\n",
    "    }\n",
    ")\n",
    "tns = pd.read_json(io.BytesIO(r.content))\n",
    "print(len(tns), 'TNS entries')\n",
    "\n",
    "tns_tdes = tns[[_.startswith('TDE') and __.startswith('ZTF') for _,__ in zip(tns['d:type'], tns['d:internalname'])]]\n",
    "tns_tdes = list(tns_tdes['d:internalname'].drop_duplicates().values.astype(str))\n",
    "print(len(tns_tdes), 'TDEs')\n",
    "\n",
    "tns_nontdes = tns[[not _.startswith('TDE') and _ != 'nan' and __.startswith('ZTF') for _,__ in zip(tns['d:type'], tns['d:internalname'])]]\n",
    "tns_nontdes = list(tns_nontdes['d:internalname'].drop_duplicates().values.astype(str))\n",
    "print(len(tns_nontdes), 'non-TDEs')"
   ]
  },
  {
   "cell_type": "markdown",
   "id": "860921da-8c76-46b9-8fb4-4da892137c6e",
   "metadata": {},
   "source": [
    "Let's load the lightcurves of the TDEs"
   ]
  },
  {
   "cell_type": "code",
   "execution_count": 3,
   "id": "48df780e-e99b-4856-86f8-401f5933c5a8",
   "metadata": {},
   "outputs": [],
   "source": [
    "from early_tde_classification.extract_features import load_extragalatic_data_full_lightcurves as load_lcs\n",
    "Config.EXTRAGAL_FNAME = 'tde_objects_all_withupperlim_min5_1.parquet'\n",
    "\n",
    "tde_lcs = load_lcs(object_list = tns_tdes)"
   ]
  },
  {
   "cell_type": "markdown",
   "id": "61781044-8b6a-4159-85b6-311dc55baf47",
   "metadata": {},
   "source": [
    "And let's load the features"
   ]
  },
  {
   "cell_type": "code",
   "execution_count": 4,
   "id": "11f2a968-2750-4402-a3b4-366ef21d71c7",
   "metadata": {},
   "outputs": [],
   "source": [
    "\n",
    "def post_fit_filtering(features):\n",
    "    \n",
    "    good_idx = features['r_chisq'] < 10    \n",
    "    good_idx &= features['num_hist_detections'] < 1 # No detections in 100 days prior to the window\n",
    "    good_idx &= features['num_prehist_negatives'] <= 1 # No negatives prior to the window\n",
    "    \n",
    "    good_idx &= features['e_reference_time'] < 100\n",
    "    good_idx &= features['norm_rel_reference_time'] < 0 # 10\n",
    "    good_idx &= features['norm_rel_reference_time'] > -10\n",
    "    \n",
    "    good_idx &= features['snr_rise_time'] > 1.5\n",
    "    good_idx &= features['snr_T'] > 1.5\n",
    "    \n",
    "    # good0_idx = good_idx.copy()\n",
    "    # good_idx &= features['pcounter'] == 0 # Only last sets of features for every peak\n",
    "\n",
    "    features = features[good_idx]\n",
    "    return features\n",
    "    \n",
    "feat_data = Table.read(os.path.join(Config.OUT_FEATURES_DIR, 'features_sergey_2025', 'features.all.pmulti.distnr.vot')).to_pandas()\n",
    "\n",
    "# Filter \n",
    "feat_data = post_fit_filtering(feat_data)\n",
    "\n",
    "# Get indices\n",
    "tns_idx = np.isin(feat_data['objectId'], tns_nontdes + tns_tdes) # Everything in TNS\n",
    "tdes_idx = np.isin(feat_data['objectId'], tns_tdes)\n",
    "\n",
    "# Get only those with a TNS label\n",
    "feat_data = feat_data[tns_idx]\n",
    "\n",
    "\n"
   ]
  },
  {
   "cell_type": "code",
   "execution_count": 5,
   "id": "3237696e-a039-4963-b489-ab65f55a7496",
   "metadata": {},
   "outputs": [],
   "source": [
    "# hammerstein_tdes = pd.read_csv(os.path.join(Config.INPUT_DIR, 'all_tde_in_ztf.csv'), dtype={'id': str}).objectId.unique().tolist()\n",
    "\n",
    "# additional_tdes = [tde for tde in hammerstein_tdes if tde not in tns_tdes]\n",
    "# found_tdes = [\n",
    "#     \"https://fink-portal.org/ZTF18aasvknh\",\n",
    "#     \"https://fink-portal.org/ZTF20aamqmfk\",\n",
    "#     \"https://fink-portal.org/ZTF20aazyvre\",\n",
    "#     \"https://fink-portal.org/ZTF20abjwvae\",\n",
    "#     \"https://fink-portal.org/ZTF20abrnwfc\",\n",
    "#     \"https://fink-portal.org/ZTF21aazenvp\",\n",
    "#     \"https://fink-portal.org/ZTF21abvydim\",\n",
    "#     \"https://fink-portal.org/ZTF22aaizrty\",\n",
    "#     \"https://fink-portal.org/ZTF23aajsmul\",\n",
    "#     \"https://fink-portal.org/ZTF23abihmun\",\n",
    "#     \"https://fink-portal.org/ZTF23abowyjf\",\n",
    "#     \"https://fink-portal.org/ZTF23abprgop\",\n",
    "#     \"https://fink-portal.org/ZTF24aaimfrw\",\n",
    "#     \"https://fink-portal.org/ZTF24abwywkf\",\n",
    "#     \"https://fink-portal.org/ZTF23aajnfna\",\n",
    "#     \"https://fink-portal.org/ZTF21abvpudz\",\n",
    "#     \"https://fink-portal.org/ZTF20abaeuwr\",\n",
    "#     \"https://fink-portal.org/ZTF20abluzvg\",\n",
    "#     \"https://fink-portal.org/ZTF21aagokfi\",\n",
    "#     \"https://fink-portal.org/ZTF21acdpfwu\",\n",
    "#     \"https://fink-portal.org/ZTF22aarvrcz\",\n",
    "#     \"https://fink-portal.org/ZTF22aayyrvn\",\n",
    "#     \"https://fink-portal.org/ZTF23abjvojy\"\n",
    "# ]\n",
    "# for tde in additional_tdes:\n",
    "#     print('https://fink-portal.org/'+tde)\n",
    "#     if 'https://fink-portal.org/'+tde in found_tdes:\n",
    "#         print('Found!')\n",
    "# print(additional_tdes)"
   ]
  },
  {
   "cell_type": "code",
   "execution_count": 6,
   "id": "19d75db0-d5c3-4a98-a189-476cb8a68cbb",
   "metadata": {},
   "outputs": [],
   "source": [
    "# Separate feature matrix and labels\n",
    "\n",
    "def keep_only_features_for_classifier(feat_data):\n",
    "\n",
    "    features_to_keep = ['e_reference_time', 'rise_time', 'snr_rise_time', 'T', 'r_chisq', 'distnr']\n",
    "    return feat_data[features_to_keep]\n",
    "\n",
    "feature_matrix = keep_only_features_for_classifier(feat_data).values\n",
    "\n",
    "# Get labels as 'TDE' or 'nonTDE'\n",
    "feat_data['tde_or_not'] = feat_data['objectId'].apply(\n",
    "    lambda x: 'TDE' if x in tns_tdes else 'nonTDE')\n",
    "# labels = feat_data['tde_or_not']\n",
    "labels = feat_data['labels'] = feat_data['objectId'].isin(tns_tdes).astype(int)\n",
    "tdes_sample_obj = feat_data[(feat_data.labels == True)].objectId.unique()"
   ]
  },
  {
   "cell_type": "markdown",
   "id": "f03c093d-2705-40a3-8bdd-aee7f905f1b4",
   "metadata": {},
   "source": [
    "## 2. Proceed with XGBoost classifier with Leave-One-Out approach\n",
    "Leave one out, train with the rest, and test on the one, for all of them.\n",
    "\n",
    "\n"
   ]
  },
  {
   "cell_type": "code",
   "execution_count": 7,
   "id": "16f86de0-fbf2-48d1-ad59-81799bdb58bf",
   "metadata": {},
   "outputs": [],
   "source": [
    "import matplotlib.pyplot as plt\n",
    "import xgboost as xgb\n",
    "from sklearn.model_selection import train_test_split, LeaveOneOut, cross_val_score, cross_validate, GridSearchCV, ParameterGrid, RandomizedSearchCV\n",
    "from sklearn.metrics import confusion_matrix, ConfusionMatrixDisplay\n",
    "\n"
   ]
  },
  {
   "cell_type": "code",
   "execution_count": 15,
   "id": "32379f7a-6d59-49f2-8c10-a5952bdf917f",
   "metadata": {},
   "outputs": [
    {
     "name": "stdout",
     "output_type": "stream",
     "text": [
      "Number of TDEs detected: 29/38\n"
     ]
    }
   ],
   "source": [
    "identified_dates = {}\n",
    "fraction_of_rise_identified = {}\n",
    "estimated_rise_time = {}\n",
    "for test_obj in tdes_sample_obj:\n",
    "\t# Split test and train\n",
    "\ttest_mask = feat_data['objectId'] == test_obj\n",
    "\ttest_feat = feature_matrix[test_mask]\n",
    "\ttest_labels = labels[test_mask]\n",
    "\ttest_jds = feat_data.loc[test_mask, 'jd_max'].values\n",
    "\n",
    "\t# Training data: exclude test object and keep only last alert per object (pcounter == 0)\n",
    "\ttrain_mask = (feat_data['objectId'] != test_obj) & (feat_data['pcounter'] == 0)\n",
    "\ttrain_feat = feature_matrix[train_mask]\n",
    "\ttrain_labels = labels[train_mask]\n",
    "\n",
    "\t# Recompute pos_weight for training\n",
    "\tpos_weight = np.sum(train_labels == 0) / np.sum(train_labels == 1)\n",
    "\n",
    "\t# Initialize and fit classifier\n",
    "\tclf = xgb.XGBClassifier(n_estimators=100, scale_pos_weight=pos_weight, max_depth=3,\n",
    "\t\t\t\t\t\t\tsubsample=0.2, learning_rate=0.01, reg_lambda=0.1, reg_alpha=5,\n",
    "\t\t\t\t\t\t\tmin_child_weight=10, colsample_bytree=0.7, random_state=1)\n",
    "\n",
    "\tclf.fit(train_feat, train_labels)\n",
    "\n",
    "\t# Predict and evaluate\n",
    "\ty_pred = clf.predict(test_feat)\n",
    "\n",
    "\t# Store earliest detection date if any positive prediction\n",
    "\tif np.any(y_pred == 1):\n",
    "\t\tidentif_jd = test_jds[y_pred == 1].min()\n",
    "\t\tidentified_dates[test_obj] = identif_jd\n",
    "\n",
    "        # Compute the fraction of the rise time at which it is identified\n",
    "\t\ttde_lc = tde_lcs[tde_lcs.objectId == test_obj].iloc[0]\n",
    "\t\tmask_no_upper_limits = np.isfinite(tde_lc.FLUXCAL)\n",
    "\t\tjd_detections = tde_lc.jd[mask_no_upper_limits]\n",
    "\t\tfirst_det_jd = np.min(jd_detections)\n",
    "\t\tpeak_jd = jd_detections[np.argmax(tde_lc.FLUXCAL[mask_no_upper_limits])]\n",
    "\t\tif test_obj == 'ZTF20abwtifz':\n",
    "\t\t\tfirst_det_jd = sorted(jd_detections)[1]\n",
    "        # Save values in dict\n",
    "\t\testimated_rise_time[test_obj] = (peak_jd - first_det_jd)\n",
    "\t\tfraction_of_rise_identified[test_obj] = (identif_jd - first_det_jd) / (peak_jd - first_det_jd)\n",
    "\n",
    "print('Number of TDEs detected: {}/{}'.format(len(fraction_of_rise_identified), len(tdes_sample_obj)))"
   ]
  },
  {
   "cell_type": "code",
   "execution_count": 9,
   "id": "7bf2a66a-1581-4a0c-988b-dd4ae7b98e11",
   "metadata": {},
   "outputs": [
    {
     "data": {
      "text/plain": [
       "{'ZTF18aabuoxd': 1.0,\n",
       " 'ZTF18abxnvoz': 0.4330951748230427,\n",
       " 'ZTF20abisysx': 0.17614343622120082,\n",
       " 'ZTF20abwtifz': 1.0,\n",
       " 'ZTF20accxwrk': 0.5860359574591953,\n",
       " 'ZTF20acitpfz': 0.4306734566945384,\n",
       " 'ZTF20acnznms': 0.37299931782234746,\n",
       " 'ZTF20acqoiyt': 0.8862115357246477,\n",
       " 'ZTF21aaaokyp': 0.5478475199232619,\n",
       " 'ZTF21aabiipy': 1.0630515237438702,\n",
       " 'ZTF21aaeoitd': 1.0013272227731589,\n",
       " 'ZTF21aakfqwq': 0.8698921952748355,\n",
       " 'ZTF21aauuybx': 1.2041185084948238,\n",
       " 'ZTF21abmwftm': 1.1198368625566166,\n",
       " 'ZTF21abqhkjd': 0.48301795383513335,\n",
       " 'ZTF21abqtckk': 1.166986408219384,\n",
       " 'ZTF22aagvrlq': 1.1246117487483331,\n",
       " 'ZTF22aavvqyh': 1.0,\n",
       " 'ZTF23aapyidj': 0.48335372303756086,\n",
       " 'ZTF23abohtqf': 0.8313325529476513,\n",
       " 'ZTF24aaecooj': 0.46687358534435314,\n",
       " 'ZTF24aajvvhj': 0.48052033156685336,\n",
       " 'ZTF24aakaiha': 1.0,\n",
       " 'ZTF24aaoxmyb': 0.454169579996493,\n",
       " 'ZTF24aatxshz': 0.41914734848866925,\n",
       " 'ZTF24abfaake': 1.9981291641233307,\n",
       " 'ZTF24abmybnp': 0.58022109790422,\n",
       " 'ZTF24abyhjvc': 0.7473676489452612,\n",
       " 'ZTF25aafofcs': 0.7008482969793152}"
      ]
     },
     "execution_count": 9,
     "metadata": {},
     "output_type": "execute_result"
    }
   ],
   "source": [
    "fraction_of_rise_identified"
   ]
  },
  {
   "cell_type": "markdown",
   "id": "6960c9ae-144f-4b80-87f1-078c10fe7933",
   "metadata": {},
   "source": [
    "## Analyse results and plot"
   ]
  },
  {
   "cell_type": "code",
   "execution_count": 10,
   "id": "12330873-bb84-426f-8cd6-ebc8f9b2366b",
   "metadata": {},
   "outputs": [
    {
     "data": {
      "text/plain": [
       "<matplotlib.lines.Line2D at 0x7fd3dc46e2c0>"
      ]
     },
     "execution_count": 10,
     "metadata": {},
     "output_type": "execute_result"
    },
    {
     "data": {
      "image/png": "[encoded data removed]",
      "text/plain": [
       "<Figure size 640x480 with 1 Axes>"
      ]
     },
     "metadata": {},
     "output_type": "display_data"
    }
   ],
   "source": [
    "ax = plt.figure().gca()\n",
    "\n",
    "ax.hist(list(fraction_of_rise_identified.values()), histtype = 'step', bins = 15)\n",
    "ax.set_xlim(left =0)\n",
    "\n",
    "ax.set_xlabel('Fraction of the rise until first identification')\n",
    "ax.set_ylabel('#')\n",
    "ax.axvline(1, color='black', linestyle='--', alpha=0.7)\n"
   ]
  },
  {
   "cell_type": "code",
   "execution_count": 11,
   "id": "e20363d9-7a58-43e3-8228-c4a0baa972f7",
   "metadata": {},
   "outputs": [
    {
     "data": {
      "text/plain": [
       "<matplotlib.lines.Line2D at 0x7fd3de575480>"
      ]
     },
     "execution_count": 11,
     "metadata": {},
     "output_type": "execute_result"
    },
    {
     "data": {
      "image/png": "[encoded data removed]",
      "text/plain": [
       "<Figure size 640x480 with 1 Axes>"
      ]
     },
     "metadata": {},
     "output_type": "display_data"
    }
   ],
   "source": [
    "ax = plt.figure().gca()\n",
    "\n",
    "ax.scatter(list(fraction_of_rise_identified.values()), list(estimated_rise_time.values()))\n",
    "ax.set_xlabel('Fraction of the rise until first identification')\n",
    "ax.set_ylabel('Rise time (days)')\n",
    "ax.axvline(1, color='black', linestyle='--', alpha=0.7)\n"
   ]
  },
  {
   "cell_type": "code",
   "execution_count": 27,
   "id": "87e60031-ecae-43cd-8211-1ec1db663ef2",
   "metadata": {},
   "outputs": [
    {
     "data": {
      "image/png": "[encoded data removed]",
      "text/plain": [
       "<Figure size 600x500 with 2 Axes>"
      ]
     },
     "metadata": {},
     "output_type": "display_data"
    }
   ],
   "source": [
    "from matplotlib.gridspec import GridSpec\n",
    "from scipy.stats import gaussian_kde\n",
    "# Prepare data\n",
    "x_vals = list(fraction_of_rise_identified.values())\n",
    "y_vals = list(estimated_rise_time.values())\n",
    "\n",
    "# Create figure and gridspec\n",
    "fig = plt.figure(figsize=(6, 5))\n",
    "gs = GridSpec(2, 1, height_ratios=[1, 3], hspace=0)  # Histogram smaller than scatter\n",
    "\n",
    "# Histogram (top)\n",
    "ax1 = fig.add_subplot(gs[0])\n",
    "ax1.hist(x_vals, histtype='step', bins=15)\n",
    "ax1.axvline(1, color='black', linestyle='--', alpha=0.7)\n",
    "ax1.set_xlim(left=0)\n",
    "ax1.set_ylabel('#')\n",
    "\n",
    "# Scatter plot (bottom)\n",
    "ax2 = fig.add_subplot(gs[1], sharex=ax1)\n",
    "ax2.scatter(x_vals, y_vals)\n",
    "ax2.axvline(1, color='black', linestyle='--', alpha=0.7)\n",
    "ax2.set_xlim(left=0)\n",
    "ax2.set_xlabel('Fraction of the rise until first identification')\n",
    "ax2.set_ylabel('Rise time (days)')\n",
    "\n",
    "plt.tight_layout()\n",
    "# plt.savefig('Identification_speed_of_TNS_TDEs.pdf', format = 'pdf')"
   ]
  },
  {
   "cell_type": "code",
   "execution_count": 13,
   "id": "f19997d7-ceb3-4069-a97b-94fa413ca4fe",
   "metadata": {},
   "outputs": [
    {
     "data": {
      "image/png": "[encoded data removed]",
      "text/plain": [
       "<Figure size 600x500 with 2 Axes>"
      ]
     },
     "metadata": {},
     "output_type": "display_data"
    }
   ],
   "source": [
    "from matplotlib.gridspec import GridSpec\n",
    "\n",
    "# Prepare data\n",
    "x_vals = [fr *rt for fr,rt in zip(fraction_of_rise_identified.values(), estimated_rise_time.values())]\n",
    "y_vals = list(estimated_rise_time.values())\n",
    "\n",
    "# Create figure and gridspec\n",
    "fig = plt.figure(figsize=(6, 5))\n",
    "gs = GridSpec(2, 1, height_ratios=[1, 3], hspace=0)  # Histogram smaller than scatter\n",
    "\n",
    "# Histogram (top)\n",
    "ax1 = fig.add_subplot(gs[0])\n",
    "ax1.hist(x_vals, histtype='step', bins=10)\n",
    "# ax1.axvline(1, color='black', linestyle='--', alpha=0.7)\n",
    "ax1.set_xlim(left=0)\n",
    "ax1.set_ylabel('#')\n",
    "\n",
    "# Scatter plot (bottom)\n",
    "ax2 = fig.add_subplot(gs[1], sharex=ax1)\n",
    "ax2.scatter(x_vals, y_vals)\n",
    "# ax2.axvline(1, color='black', linestyle='--', alpha=0.7)\n",
    "ax2.set_xlim(left=0)\n",
    "ax2.set_xlabel('Time until first identification')\n",
    "ax2.set_ylabel('Rise time (days)')\n",
    "\n",
    "plt.tight_layout()\n",
    "plt.show()\n"
   ]
  },
  {
   "cell_type": "code",
   "execution_count": null,
   "id": "2be99107-b4fe-4cd9-a05d-0d54c9af51a8",
   "metadata": {},
   "outputs": [],
   "source": []
  },
  {
   "cell_type": "code",
   "execution_count": null,
   "id": "c2bb8a81-fc81-4078-ba0b-97d446390564",
   "metadata": {},
   "outputs": [],
   "source": []
  },
  {
   "cell_type": "code",
   "execution_count": null,
   "id": "87c1ad67-6c2b-4cb6-853c-25a9abe4f4cf",
   "metadata": {},
   "outputs": [],
   "source": []
  },
  {
   "cell_type": "code",
   "execution_count": null,
   "id": "0370187b-1d7b-4c60-a86d-e0c250337add",
   "metadata": {},
   "outputs": [],
   "source": []
  },
  {
   "cell_type": "code",
   "execution_count": null,
   "id": "b2f14a2d-825a-4461-b52b-4632805a91c5",
   "metadata": {},
   "outputs": [],
   "source": []
  },
  {
   "cell_type": "code",
   "execution_count": null,
   "id": "33d884de-a5b0-459b-98e5-41d8359484c2",
   "metadata": {},
   "outputs": [],
   "source": []
  }
 ],
 "metadata": {
  "kernelspec": {
   "display_name": "Python 3 (ipykernel)",
   "language": "python",
   "name": "python3"
  },
  "language_info": {
   "codemirror_mode": {
    "name": "ipython",
    "version": 3
   },
   "file_extension": ".py",
   "mimetype": "text/x-python",
   "name": "python",
   "nbconvert_exporter": "python",
   "pygments_lexer": "ipython3",
   "version": "3.10.13"
  }
 },
 "nbformat": 4,
 "nbformat_minor": 5
}
